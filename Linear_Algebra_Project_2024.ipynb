{
  "cells": [
    {
      "cell_type": "markdown",
      "metadata": {
        "id": "view-in-github",
        "colab_type": "text"
      },
      "source": [
        "<a href=\"https://colab.research.google.com/github/emanespitia/restaurantSystem-/blob/main/Linear_Algebra_Project_2024.ipynb\" target=\"_parent\"><img src=\"https://colab.research.google.com/assets/colab-badge.svg\" alt=\"Open In Colab\"/></a>"
      ]
    },
    {
      "cell_type": "code",
      "execution_count": null,
      "metadata": {
        "colab": {
          "base_uri": "https://localhost:8080/"
        },
        "id": "IPUAi4EsZ4MP",
        "outputId": "6b6506d1-5e4d-4c30-9ac8-681a7b4b7174"
      },
      "outputs": [
        {
          "name": "stdout",
          "output_type": "stream",
          "text": [
            "Initial PageRanks: (1, 2, 4)\n"
          ]
        }
      ],
      "source": [
        "import numpy as np\n",
        "\n",
        "# Generate 3 random numbers between 0 and 1\n",
        "x0 = (1,2,4)\n",
        "\n",
        "print(f\"Initial PageRanks: {x0}\")"
      ]
    },
    {
      "cell_type": "code",
      "execution_count": null,
      "metadata": {
        "colab": {
          "base_uri": "https://localhost:8080/"
        },
        "id": "_70Pd_c9a01i",
        "outputId": "a9afda75-b43d-47c7-95c2-55e3937f2dea"
      },
      "outputs": [
        {
          "name": "stdout",
          "output_type": "stream",
          "text": [
            "Ax_1: [4.  2.5 0.5]\n"
          ]
        }
      ],
      "source": [
        "import numpy as np\n",
        "\n",
        "# Define matrix A\n",
        "A = np.array([[0, 1, 0.5],\n",
        "              [0.5, 0, 0.5],\n",
        "              [0.5, 0, 0]])\n",
        "\n",
        "# Assuming x0 is already defined from the previous step (random PageRanks)\n",
        "# If not, uncomment the following line to generate it:\n",
        "# x0 = np.random.rand(3)\n",
        "\n",
        "# Calculate Ax_1\n",
        "Ax_1 = np.dot(A, x0)\n",
        "\n",
        "print(f\"Ax_1: {Ax_1}\")"
      ]
    },
    {
      "cell_type": "code",
      "execution_count": null,
      "metadata": {
        "colab": {
          "background_save": true,
          "base_uri": "https://localhost:8080/"
        },
        "id": "8G0Nogx6bUf_",
        "outputId": "5182b5d0-9cb9-4593-d8cb-212108caad8e"
      },
      "outputs": [
        {
          "name": "stdout",
          "output_type": "stream",
          "text": [
            "A^15:\n",
            "[[0.4442749  0.44476318 0.44430542]\n",
            " [0.33334351 0.33331299 0.33334351]\n",
            " [0.22238159 0.22192383 0.22235107]]\n",
            "\n",
            "A^16:\n",
            "[[0.4445343  0.4442749  0.44451904]\n",
            " [0.33332825 0.33334351 0.33332825]\n",
            " [0.22213745 0.22238159 0.22215271]]\n",
            "\n",
            "Difference (norm): 0.0008131660519088274\n"
          ]
        }
      ],
      "source": [
        "import numpy as np\n",
        "\n",
        "# Define matrix A (assuming it's already defined from previous steps)\n",
        "# A = np.array([[0, 1, 0.5],\n",
        "#               [0.5, 0, 0.5],\n",
        "#               [0.5, 0, 0]])\n",
        "\n",
        "# Assuming Ax_0 is already defined from previous steps\n",
        "# If not, you'll need to calculate it using:\n",
        "# Ax_0 = np.dot(A, x0)  (where x0 is the initial PageRanks vector)\n",
        "\n",
        "# Calculate A^15 and A^16\n",
        "A_15 = np.linalg.matrix_power(A, 15)\n",
        "A_16 = np.linalg.matrix_power(A, 16)\n",
        "\n",
        "# Compare A^15 and A^16\n",
        "difference = np.linalg.norm(A_15 - A_16)  # Calculate the difference\n",
        "\n",
        "print(f\"A^15:\\n{A_15}\\n\")\n",
        "print(f\"A^16:\\n{A_16}\\n\")\n",
        "print(f\"Difference (norm): {difference}\")"
      ]
    },
    {
      "cell_type": "code",
      "source": [],
      "metadata": {
        "id": "eAL5__8McQov"
      },
      "execution_count": null,
      "outputs": []
    },
    {
      "source": [
        "import sympy as sp\n",
        "import numpy as np\n",
        "\n",
        "# Define matrix A\n",
        "A = np.array([[0, 1, 0.5],\n",
        "              [0.5, 0, 0.5],\n",
        "              [0.5, 0, 0]])\n",
        "\n",
        "# Define x0\n",
        "x0 = (1, 2, 4)\n",
        "\n",
        "# Calculate Ax_1\n",
        "Ax_1 = np.dot(A, x0)\n",
        "\n",
        "# Define the augmented matrix\n",
        "augmented_matrix = sp.Matrix([[0, 1, 0.5, Ax_1[0]],\n",
        "                               [0.5, 0, 0.5, Ax_1[1]],\n",
        "                               [0.5, 0, 0, Ax_1[2]]])\n",
        "\n",
        "# Get the rref\n",
        "rref_matrix, pivot_columns = augmented_matrix.rref()\n",
        "\n",
        "print(rref_matrix)"
      ],
      "cell_type": "code",
      "metadata": {
        "colab": {
          "base_uri": "https://localhost:8080/"
        },
        "id": "aGZk2gn8dNJZ",
        "outputId": "7aa6d2a0-70d1-492f-bfc5-a3fa51c95502"
      },
      "execution_count": 7,
      "outputs": [
        {
          "output_type": "stream",
          "name": "stdout",
          "text": [
            "Matrix([[1, 0, 0, 1.00000000000000], [0, 1, 0, 2.00000000000000], [0, 0, 1, 4.00000000000000]])\n"
          ]
        }
      ]
    },
    {
      "cell_type": "code",
      "source": [],
      "metadata": {
        "id": "lHnyURBKdLeM"
      },
      "execution_count": null,
      "outputs": []
    },
    {
      "cell_type": "code",
      "source": [],
      "metadata": {
        "id": "ePK8qbBSrQsP"
      },
      "execution_count": null,
      "outputs": []
    },
    {
      "source": [
        "import numpy as np\n",
        "\n",
        "# Define matrix A\n",
        "A = np.array([[0, 1, 0.5],\n",
        "              [0.5, 0, 0.5],\n",
        "              [0.5, 0, 0]])\n",
        "\n",
        "# Calculate eigenvalues and eigenvectors\n",
        "eigenvalues, eigenvectors = np.linalg.eig(A)\n",
        "\n",
        "# Print the results\n",
        "print(\"Eigenvalues:\", eigenvalues)\n",
        "print(\"Eigenvectors:\\n\", eigenvectors)\n",
        "\n",
        "# Access the eigenvector corresponding to the first eigenvalue (as an example)\n",
        "first_eigenvector = eigenvectors[:, 0]\n",
        "print(\"\\nFirst Eigenvector:\", first_eigenvector)"
      ],
      "cell_type": "code",
      "metadata": {
        "colab": {
          "base_uri": "https://localhost:8080/"
        },
        "id": "37nRacf3rRSw",
        "outputId": "5fa0fb47-2efc-4c72-eef7-fcc862b21c3f"
      },
      "execution_count": 8,
      "outputs": [
        {
          "output_type": "stream",
          "name": "stdout",
          "text": [
            "Eigenvalues: [ 1.  -0.5 -0.5]\n",
            "Eigenvectors:\n",
            " [[-7.42781353e-01 -7.07106778e-01  7.07106784e-01]\n",
            " [-5.57086015e-01 -5.56097898e-09 -5.56097881e-09]\n",
            " [-3.71390676e-01  7.07106784e-01 -7.07106778e-01]]\n",
            "\n",
            "First Eigenvector: [-0.74278135 -0.55708601 -0.37139068]\n"
          ]
        }
      ]
    },
    {
      "cell_type": "code",
      "source": [],
      "metadata": {
        "id": "SOLIizDM1XcF"
      },
      "execution_count": null,
      "outputs": []
    },
    {
      "source": [
        "import numpy as np\n",
        "\n",
        "# Define matrix A\n",
        "A = np.array([[0, 1, 0.5],\n",
        "              [0.5, 0, 0.5],\n",
        "              [0.5, 0, 0]])\n",
        "\n",
        "# Calculate eigenvalues and eigenvectors\n",
        "eigenvalues, eigenvectors = np.linalg.eig(A)\n",
        "\n",
        "# Find the eigenvector corresponding to the largest eigenvalue (dominant eigenvector)\n",
        "dominant_eigenvector_index = np.argmax(eigenvalues)\n",
        "dominant_eigenvector = eigenvectors[:, dominant_eigenvector_index]\n",
        "\n",
        "# Normalize the eigenvector to represent probabilities\n",
        "dominant_eigenvector = dominant_eigenvector / np.sum(dominant_eigenvector)\n",
        "\n",
        "# Get the ranking based on the eigenvector components\n",
        "ranking = np.argsort(dominant_eigenvector)[::-1]  # Sort in descending order\n",
        "\n",
        "# Print the ranking\n",
        "print(\"PageRank Order:\")\n",
        "for i in ranking:\n",
        "    print(f\"Page {i + 1}: PageRank = {dominant_eigenvector[i]}\")"
      ],
      "cell_type": "code",
      "metadata": {
        "colab": {
          "base_uri": "https://localhost:8080/"
        },
        "id": "U9JdDFc61YhL",
        "outputId": "f30d2ae6-ccd9-497f-c3cf-a6258138cb13"
      },
      "execution_count": 9,
      "outputs": [
        {
          "output_type": "stream",
          "name": "stdout",
          "text": [
            "PageRank Order:\n",
            "Page 1: PageRank = 0.4444444444444444\n",
            "Page 2: PageRank = 0.3333333333333333\n",
            "Page 3: PageRank = 0.22222222222222227\n"
          ]
        }
      ]
    }
  ],
  "metadata": {
    "colab": {
      "provenance": [],
      "authorship_tag": "ABX9TyPJigbj1xyeWS395QN5Nvnm",
      "include_colab_link": true
    },
    "kernelspec": {
      "display_name": "Python 3",
      "name": "python3"
    },
    "language_info": {
      "name": "python"
    }
  },
  "nbformat": 4,
  "nbformat_minor": 0
}