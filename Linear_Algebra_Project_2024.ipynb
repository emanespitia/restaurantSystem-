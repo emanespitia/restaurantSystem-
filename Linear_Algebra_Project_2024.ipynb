{
  "cells": [
    {
      "cell_type": "markdown",
      "metadata": {
        "id": "view-in-github",
        "colab_type": "text"
      },
      "source": [
        "<a href=\"https://colab.research.google.com/github/emanespitia/restaurantSystem-/blob/main/Linear_Algebra_Project_2024.ipynb\" target=\"_parent\"><img src=\"https://colab.research.google.com/assets/colab-badge.svg\" alt=\"Open In Colab\"/></a>"
      ]
    },
    {
      "cell_type": "code",
      "execution_count": null,
      "metadata": {
        "colab": {
          "base_uri": "https://localhost:8080/"
        },
        "id": "IPUAi4EsZ4MP",
        "outputId": "6b6506d1-5e4d-4c30-9ac8-681a7b4b7174"
      },
      "outputs": [
        {
          "name": "stdout",
          "output_type": "stream",
          "text": [
            "Initial PageRanks: (1, 2, 4)\n"
          ]
        }
      ],
      "source": [
        "import numpy as np\n",
        "\n",
        "# Generate 3 random numbers between 0 and 1\n",
        "x0 = (1,2,4)\n",
        "\n",
        "print(f\"Initial PageRanks: {x0}\")"
      ]
    },
    {
      "cell_type": "code",
      "execution_count": null,
      "metadata": {
        "colab": {
          "base_uri": "https://localhost:8080/"
        },
        "id": "_70Pd_c9a01i",
        "outputId": "a9afda75-b43d-47c7-95c2-55e3937f2dea"
      },
      "outputs": [
        {
          "name": "stdout",
          "output_type": "stream",
          "text": [
            "Ax_1: [4.  2.5 0.5]\n"
          ]
        }
      ],
      "source": [
        "import numpy as np\n",
        "\n",
        "# Define matrix A\n",
        "A = np.array([[0, 1, 0.5],\n",
        "              [0.5, 0, 0.5],\n",
        "              [0.5, 0, 0]])\n",
        "\n",
        "# Assuming x0 is already defined from the previous step (random PageRanks)\n",
        "# If not, uncomment the following line to generate it:\n",
        "# x0 = np.random.rand(3)\n",
        "\n",
        "# Calculate Ax_1\n",
        "Ax_1 = np.dot(A, x0)\n",
        "\n",
        "print(f\"Ax_1: {Ax_1}\")"
      ]
    },
    {
      "cell_type": "code",
      "execution_count": null,
      "metadata": {
        "colab": {
          "background_save": true,
          "base_uri": "https://localhost:8080/"
        },
        "id": "8G0Nogx6bUf_",
        "outputId": "931e991e-adef-4acc-eb96-7beef23878f0"
      },
      "outputs": [
        {
          "name": "stdout",
          "output_type": "stream",
          "text": [
            "A^15:\n",
            "[[0.4442749  0.44476318 0.44430542]\n",
            " [0.33334351 0.33331299 0.33334351]\n",
            " [0.22238159 0.22192383 0.22235107]]\n",
            "\n",
            "A^16:\n",
            "[[0.4445343  0.4442749  0.44451904]\n",
            " [0.33332825 0.33334351 0.33332825]\n",
            " [0.22213745 0.22238159 0.22215271]]\n",
            "\n",
            "Difference (norm): 0.0008131660519088274\n"
          ]
        }
      ],
      "source": [
        "import numpy as np\n",
        "\n",
        "# Define matrix A (assuming it's already defined from previous steps)\n",
        "# A = np.array([[0, 1, 0.5],\n",
        "#               [0.5, 0, 0.5],\n",
        "#               [0.5, 0, 0]])\n",
        "\n",
        "# Assuming Ax_0 is already defined from previous steps\n",
        "# If not, you'll need to calculate it using:\n",
        "# Ax_0 = np.dot(A, x0)  (where x0 is the initial PageRanks vector)\n",
        "\n",
        "# Calculate A^15 and A^16\n",
        "A_15 = np.linalg.matrix_power(A, 15)\n",
        "A_16 = np.linalg.matrix_power(A, 16)\n",
        "\n",
        "# Compare A^15 and A^16\n",
        "difference = np.linalg.norm(A_15 - A_16)  # Calculate the difference\n",
        "\n",
        "print(f\"A^15:\\n{A_15}\\n\")\n",
        "print(f\"A^16:\\n{A_16}\\n\")\n",
        "print(f\"Difference (norm): {difference}\")"
      ]
    }
  ],
  "metadata": {
    "colab": {
      "provenance": [],
      "authorship_tag": "ABX9TyO5CyoaHR0hA0XrggQ87vV8",
      "include_colab_link": true
    },
    "kernelspec": {
      "display_name": "Python 3",
      "name": "python3"
    },
    "language_info": {
      "name": "python"
    }
  },
  "nbformat": 4,
  "nbformat_minor": 0
}